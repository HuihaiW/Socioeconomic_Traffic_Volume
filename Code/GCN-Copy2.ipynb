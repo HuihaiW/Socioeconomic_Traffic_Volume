{
 "cells": [
  {
   "cell_type": "code",
   "execution_count": 2,
   "id": "66ba9717",
   "metadata": {},
   "outputs": [
    {
     "name": "stderr",
     "output_type": "stream",
     "text": [
      "/home/huihai/anaconda3/envs/pytorch/lib/python3.7/site-packages/torch/cuda/__init__.py:83: UserWarning: CUDA initialization: CUDA unknown error - this may be due to an incorrectly set up environment, e.g. changing env variable CUDA_VISIBLE_DEVICES after program start. Setting the available devices to be zero. (Triggered internally at  /opt/conda/conda-bld/pytorch_1656352430114/work/c10/cuda/CUDAFunctions.cpp:109.)\n",
      "  return torch._C._cuda_getDeviceCount() > 0\n"
     ]
    }
   ],
   "source": [
    "import torch\n",
    "from torch_geometric.data import Data\n",
    "from torch_geometric.data import InMemoryDataset\n",
    "import pandas as pd\n",
    "import statistics\n",
    "from tqdm import tqdm\n",
    "import numpy as np\n",
    "import random\n",
    "import os"
   ]
  },
  {
   "cell_type": "code",
   "execution_count": 3,
   "id": "fe016577",
   "metadata": {},
   "outputs": [],
   "source": [
    "def get_time_frame(df, M, D, HH, MM):\n",
    "    df_M = df[df['M'] == M]\n",
    "    df_D = df_M[df_M['D'] == D]\n",
    "    df_HH = df_D[df_D['HH'] == HH]\n",
    "    df_MM = df_HH[df_HH['MM'] == MM]\n",
    "    return df_MM"
   ]
  },
  {
   "cell_type": "code",
   "execution_count": 5,
   "id": "a2490a81",
   "metadata": {},
   "outputs": [],
   "source": [
    "df_segments = pd.read_csv(r'../Dataset/New_Road_Segments_Divided_Dir.csv')\n",
    "df_segments = df_segments[['SegmentID_', 'TrafDir','SegDir', 'ID']]"
   ]
  },
  {
   "cell_type": "code",
   "execution_count": 6,
   "id": "8c69aadf",
   "metadata": {},
   "outputs": [],
   "source": [
    "df_count_0 = pd.read_csv(r'../Dataset/Automated_Traffic_Volume_Counts.csv')"
   ]
  },
  {
   "cell_type": "code",
   "execution_count": 178,
   "id": "0f31d777",
   "metadata": {},
   "outputs": [],
   "source": [
    "year = 2017"
   ]
  },
  {
   "cell_type": "code",
   "execution_count": 179,
   "id": "b68bab6f",
   "metadata": {},
   "outputs": [],
   "source": [
    "df_count = df_count_0[df_count_0['Yr'] == year]"
   ]
  },
  {
   "cell_type": "code",
   "execution_count": 1,
   "id": "135f2fa1",
   "metadata": {},
   "outputs": [
    {
     "ename": "NameError",
     "evalue": "name 'df_count' is not defined",
     "output_type": "error",
     "traceback": [
      "\u001b[0;31m---------------------------------------------------------------------------\u001b[0m",
      "\u001b[0;31mNameError\u001b[0m                                 Traceback (most recent call last)",
      "\u001b[0;32m/tmp/ipykernel_1431154/1878129695.py\u001b[0m in \u001b[0;36m<module>\u001b[0;34m\u001b[0m\n\u001b[0;32m----> 1\u001b[0;31m \u001b[0mYr\u001b[0m \u001b[0;34m=\u001b[0m \u001b[0mdf_count\u001b[0m\u001b[0;34m[\u001b[0m\u001b[0;34m'Yr'\u001b[0m\u001b[0;34m]\u001b[0m\u001b[0;34m.\u001b[0m\u001b[0mto_list\u001b[0m\u001b[0;34m(\u001b[0m\u001b[0;34m)\u001b[0m\u001b[0;34m\u001b[0m\u001b[0;34m\u001b[0m\u001b[0m\n\u001b[0m\u001b[1;32m      2\u001b[0m \u001b[0mM\u001b[0m \u001b[0;34m=\u001b[0m \u001b[0mdf_count\u001b[0m\u001b[0;34m[\u001b[0m\u001b[0;34m'M'\u001b[0m\u001b[0;34m]\u001b[0m\u001b[0;34m.\u001b[0m\u001b[0mto_list\u001b[0m\u001b[0;34m(\u001b[0m\u001b[0;34m)\u001b[0m\u001b[0;34m\u001b[0m\u001b[0;34m\u001b[0m\u001b[0m\n\u001b[1;32m      3\u001b[0m \u001b[0mD\u001b[0m \u001b[0;34m=\u001b[0m \u001b[0mdf_count\u001b[0m\u001b[0;34m[\u001b[0m\u001b[0;34m'D'\u001b[0m\u001b[0;34m]\u001b[0m\u001b[0;34m.\u001b[0m\u001b[0mto_list\u001b[0m\u001b[0;34m(\u001b[0m\u001b[0;34m)\u001b[0m\u001b[0;34m\u001b[0m\u001b[0;34m\u001b[0m\u001b[0m\n\u001b[1;32m      4\u001b[0m \u001b[0mtime\u001b[0m \u001b[0;34m=\u001b[0m \u001b[0;34m[\u001b[0m\u001b[0;34m]\u001b[0m\u001b[0;34m\u001b[0m\u001b[0;34m\u001b[0m\u001b[0m\n\u001b[1;32m      5\u001b[0m \u001b[0;34m\u001b[0m\u001b[0m\n",
      "\u001b[0;31mNameError\u001b[0m: name 'df_count' is not defined"
     ]
    }
   ],
   "source": [
    "Yr = df_count['Yr'].to_list()\n",
    "M = df_count['M'].to_list()\n",
    "D = df_count['D'].to_list()\n",
    "time = []\n",
    "\n",
    "for i in range(len(Yr)):\n",
    "#     print(i)\n",
    "    t = str(Yr[i]) + '_' + str(M[i]) + '_' + str(D[i])\n",
    "    time.append(t)\n",
    "\n",
    "time_list = list(set(time))\n",
    "print('time len is: ' + str(len(time_list)))"
   ]
  },
  {
   "cell_type": "code",
   "execution_count": 173,
   "id": "7b417ae5",
   "metadata": {},
   "outputs": [
    {
     "name": "stdout",
     "output_type": "stream",
     "text": [
      "2022_10_22\n",
      "2022_10_13\n",
      "2022_10_19\n",
      "2022_10_17\n",
      "2022_10_27\n",
      "2022_10_12\n",
      "2022_10_16\n",
      "2022_10_24\n",
      "2022_10_20\n",
      "2022_10_21\n",
      "2022_10_14\n",
      "2022_10_18\n",
      "2022_10_23\n",
      "2022_10_25\n",
      "2022_10_26\n",
      "2022_10_15\n"
     ]
    }
   ],
   "source": [
    "hour_list = list(set(df_count['HH'].to_list()))\n",
    "Minute_list = list(set(df_count['MM'].to_list()))\n",
    "\n",
    "y_2019 = []\n",
    "time_record = []\n",
    "for t in time_list:\n",
    "    print(t)\n",
    "    y = [-1]*df_segments.shape[0]\n",
    "    M = int(t.split('_')[1])\n",
    "    D = int(t.split('_')[2])\n",
    "    HH = random.choice(hour_list)\n",
    "    MM = random.choice(Minute_list)\n",
    "    \n",
    "    time_frame = get_time_frame(df_count, M, D, HH, MM)\n",
    "    \n",
    "    seg_list = time_frame['SegmentID'].to_list()\n",
    "    dir_list = time_frame['Direction'].to_list()\n",
    "    vol_list = time_frame['Vol'].to_list()\n",
    "    \n",
    "    for i in range(len(seg_list)):\n",
    "        seg = seg_list[i]\n",
    "        direction = dir_list[i]\n",
    "        vol = vol_list[i]\n",
    "        \n",
    "        df_row = df_segments[df_segments['SegmentID_'] == seg]\n",
    "        if df_row.shape[0] == 0:\n",
    "#             print('No segment: ' + str(seg))\n",
    "            continue\n",
    "        else:\n",
    "            if df_row['TrafDir'].values[0] != 'T':\n",
    "                segment_ID = df_row['ID'].values[0]\n",
    "                y[segment_ID] = vol\n",
    "            else:\n",
    "                df_dir = df_row[df_row['SegDir'] == direction]\n",
    "                if df_dir.shape[0] == 0:\n",
    "#                     print(\"No direction: \" + str(seg))\n",
    "                    continue\n",
    "                else:\n",
    "                    segment_ID = df_dir['ID'].values[0]\n",
    "                    y[segment_ID] = vol\n",
    "    a = 0\n",
    "    for data in y:\n",
    "        if data != -1:\n",
    "            a += 1\n",
    "    if a > 20:\n",
    "        print(a)\n",
    "        y_2019.append(y) \n",
    "        time_record.append([M, D, HH, MM])"
   ]
  },
  {
   "cell_type": "code",
   "execution_count": 168,
   "id": "5ea661c5",
   "metadata": {},
   "outputs": [
    {
     "name": "stdout",
     "output_type": "stream",
     "text": [
      "../Data/y_2021.csv\n",
      "10\n"
     ]
    }
   ],
   "source": [
    "y_2019_df = pd.DataFrame(zip(*y_2019))\n",
    "\n",
    "path = os.path.join(r'../Data/', 'y_' + str(year) + '.csv')\n",
    "path_record = os.path.join(r'../Data/', 'y_record_' + str(year) + '.csv')\n",
    "\n",
    "y_record_df = pd.DataFrame(time_record)\n",
    "\n",
    "print(path)\n",
    "print(len(y_2019))\n",
    "y_2019_df.to_csv(path)\n",
    "y_record_df.to_csv(path_record)"
   ]
  },
  {
   "cell_type": "code",
   "execution_count": 174,
   "id": "2944bc62",
   "metadata": {},
   "outputs": [
    {
     "data": {
      "text/plain": [
       "[]"
      ]
     },
     "execution_count": 174,
     "metadata": {},
     "output_type": "execute_result"
    }
   ],
   "source": [
    "y_2019"
   ]
  },
  {
   "cell_type": "code",
   "execution_count": null,
   "id": "992da03c",
   "metadata": {},
   "outputs": [],
   "source": []
  }
 ],
 "metadata": {
  "kernelspec": {
   "display_name": "Python 3 (ipykernel)",
   "language": "python",
   "name": "python3"
  },
  "language_info": {
   "codemirror_mode": {
    "name": "ipython",
    "version": 3
   },
   "file_extension": ".py",
   "mimetype": "text/x-python",
   "name": "python",
   "nbconvert_exporter": "python",
   "pygments_lexer": "ipython3",
   "version": "3.7.13"
  }
 },
 "nbformat": 4,
 "nbformat_minor": 5
}
