{
 "cells": [
  {
   "cell_type": "code",
   "execution_count": 1,
   "id": "614837d4",
   "metadata": {},
   "outputs": [],
   "source": [
    "import pandas as pd\n",
    "import os\n",
    "from random import shuffle\n",
    "import numpy as np"
   ]
  },
  {
   "cell_type": "code",
   "execution_count": 2,
   "id": "96ccca26",
   "metadata": {},
   "outputs": [],
   "source": [
    "def get_time_frame(df, M, D):\n",
    "    df_M = df[df['M'] == M]\n",
    "    df_D = df_M[df_M['D'] == D]\n",
    "#     df_HH = df_D[df_D['HH'] == HH]\n",
    "#     df_MM = df_HH[df_HH['MM'] == MM]\n",
    "    return df_D"
   ]
  },
  {
   "cell_type": "code",
   "execution_count": 3,
   "id": "e8487b04",
   "metadata": {},
   "outputs": [
    {
     "name": "stderr",
     "output_type": "stream",
     "text": [
      "/home/uil/anaconda3/envs/pytorch/lib/python3.7/site-packages/IPython/core/interactiveshell.py:3457: DtypeWarning: Columns (8,9) have mixed types.Specify dtype option on import or set low_memory=False.\n",
      "  exec(code_obj, self.user_global_ns, self.user_ns)\n"
     ]
    }
   ],
   "source": [
    "df_segments = pd.read_csv(r'../Data/New_Road_Segments_Divided_Dir.csv')\n",
    "df_segments = df_segments[['SegmentID_', 'TrafDir','SegDir', 'ID']]\n",
    "df_count_0 = pd.read_csv(r'../Dataset/Automated_Traffic_Volume_Counts.csv')"
   ]
  },
  {
   "cell_type": "code",
   "execution_count": 4,
   "id": "ce638e6b",
   "metadata": {},
   "outputs": [],
   "source": [
    "SegID = df_count_0['SegmentID'].astype('str')\n",
    "Dir = df_count_0['Direction']\n",
    "Seg_ID = SegID+'_' + Dir\n",
    "df_count_0['Seg_Dir'] = Seg_ID"
   ]
  },
  {
   "cell_type": "code",
   "execution_count": 5,
   "id": "944e67c8",
   "metadata": {},
   "outputs": [],
   "source": [
    "count_d = df_count_0['Vol']"
   ]
  },
  {
   "cell_type": "code",
   "execution_count": 6,
   "id": "fe392f07",
   "metadata": {},
   "outputs": [],
   "source": [
    "m = count_d.mean()"
   ]
  },
  {
   "cell_type": "code",
   "execution_count": 7,
   "id": "90a9d7b8",
   "metadata": {},
   "outputs": [],
   "source": [
    "s = count_d.std()"
   ]
  },
  {
   "cell_type": "code",
   "execution_count": 8,
   "id": "5a598582",
   "metadata": {},
   "outputs": [
    {
     "name": "stdout",
     "output_type": "stream",
     "text": [
      "106.66053597731798 156.377030788485\n"
     ]
    }
   ],
   "source": [
    "print(m, s)"
   ]
  },
  {
   "cell_type": "code",
   "execution_count": null,
   "id": "8b3d7d37",
   "metadata": {},
   "outputs": [],
   "source": []
  },
  {
   "cell_type": "code",
   "execution_count": 40,
   "id": "9ab95f81",
   "metadata": {},
   "outputs": [
    {
     "name": "stdout",
     "output_type": "stream",
     "text": [
      "2013\n",
      "time len is: 348\n",
      "2014\n",
      "time len is: 347\n",
      "2015\n",
      "time len is: 331\n",
      "2016\n",
      "time len is: 342\n",
      "2017\n",
      "time len is: 338\n",
      "2018\n",
      "time len is: 283\n",
      "2019\n",
      "time len is: 329\n"
     ]
    }
   ],
   "source": [
    "year_list = [2013, 2014, 2015, 2016, 2017, 2018, 2019]\n",
    "\n",
    "for year in year_list:\n",
    "    print(year)\n",
    "\n",
    "    choose_days_per_year = 50\n",
    "\n",
    "    df_count = df_count_0[df_count_0['Yr'] == year]\n",
    "    Yr = df_count['Yr'].to_list()\n",
    "    M = df_count['M'].to_list()\n",
    "    D = df_count['D'].to_list()\n",
    "    time = []\n",
    "\n",
    "    for i in range(len(Yr)):\n",
    "        t = str(Yr[i]) + '_' + str(M[i]) + '_' + str(D[i])\n",
    "        time.append(t)\n",
    "\n",
    "    time_list = list(set(time))\n",
    "    print('time len is: ' + str(len(time_list)))\n",
    "\n",
    "    if choose_days_per_year > len(time_list):\n",
    "        choose_days_per_year = len(time_list)\n",
    "\n",
    "    shuffle(time_list)\n",
    "    time_list = time_list[0:choose_days_per_year]\n",
    "\n",
    "\n",
    "    for time in time_list:\n",
    "        Day_time_series_data = np.full((df_segments.shape[0], 96), -1.0)\n",
    "        Day_list = [-1.0] * df_segments.shape[0]\n",
    "        T = time.split('_')\n",
    "        M = int(T[1])\n",
    "        D = int(T[2])\n",
    "        time_frame = get_time_frame(df_count, M, D)\n",
    "\n",
    "        seg_dir_list = list(set(time_frame['Seg_Dir'].to_list()))\n",
    "\n",
    "        for seg_dir in seg_dir_list:\n",
    "            df_time_seg = time_frame[time_frame['Seg_Dir']==seg_dir]\n",
    "            if (df_time_seg.shape[0] == 96):\n",
    "                seg = int(seg_dir.split('_')[0])\n",
    "                direction = seg_dir.split('_')[1]\n",
    "                count = (df_time_seg['Vol'] - m)/s\n",
    "#                 print(count)\n",
    "                seg_df = df_segments[df_segments['SegmentID_'] == seg]\n",
    "                if seg_df.shape[0] == 0:\n",
    "#                     print('No such segment: ' + str(seg))\n",
    "                    continue\n",
    "                else:\n",
    "                    if seg_df['TrafDir'].values[0] != 'T':\n",
    "                        index = seg_df['ID'].values[0]\n",
    "                        Day_time_series_data[index] = count\n",
    "                    else:\n",
    "                        seg_dir_df = seg_df[seg_df['SegDir']==direction]\n",
    "                        if seg_dir_df.shape[0] == 0:\n",
    "#                             print('Have segment, but no direction: ' + str(seg))\n",
    "                            continue\n",
    "                        index = seg_dir_df['ID'].values[0]\n",
    "                        Day_time_series_data[index] = count\n",
    "        df = pd.DataFrame(Day_time_series_data, columns=[str(c) for c in range(96)])\n",
    "        name = time + '.csv'\n",
    "        path = os.path.join(r'../Data/Y_Day_timeseries', name)\n",
    "        df.to_csv(path, float_format=str)"
   ]
  },
  {
   "cell_type": "code",
   "execution_count": 33,
   "id": "a70c55ba",
   "metadata": {},
   "outputs": [],
   "source": [
    "df = pd.read_csv(r'../Data/Y_Day_timeseries/2013_10_1.csv')"
   ]
  },
  {
   "cell_type": "code",
   "execution_count": 37,
   "id": "f80b2173",
   "metadata": {},
   "outputs": [
    {
     "data": {
      "text/plain": [
       "6818      0\n",
       "6972      0\n",
       "11513     0\n",
       "16084     0\n",
       "17436     0\n",
       "22152     0\n",
       "22239     0\n",
       "38090     1\n",
       "38771     0\n",
       "38813     0\n",
       "38842     1\n",
       "39022     1\n",
       "40135     0\n",
       "40936     0\n",
       "42519     0\n",
       "42520     0\n",
       "42927     0\n",
       "47616     0\n",
       "47757     0\n",
       "48285     0\n",
       "49961     0\n",
       "50144     0\n",
       "53332     0\n",
       "53779     0\n",
       "56905     0\n",
       "61146     1\n",
       "61946     0\n",
       "65218     0\n",
       "65219     0\n",
       "65916     0\n",
       "65923     0\n",
       "65925     0\n",
       "66461     0\n",
       "67369     0\n",
       "70444     0\n",
       "107694    0\n",
       "116233    0\n",
       "133777    0\n",
       "153505    0\n",
       "153976    1\n",
       "155935    0\n",
       "160050    0\n",
       "162321    0\n",
       "175873    0\n",
       "Name: 50, dtype: int64"
      ]
     },
     "execution_count": 37,
     "metadata": {},
     "output_type": "execute_result"
    }
   ],
   "source": [
    "test = df['50']\n",
    "test[test!= -1]"
   ]
  },
  {
   "cell_type": "code",
   "execution_count": 22,
   "id": "c19d72f1",
   "metadata": {},
   "outputs": [
    {
     "data": {
      "text/html": [
       "<div>\n",
       "<style scoped>\n",
       "    .dataframe tbody tr th:only-of-type {\n",
       "        vertical-align: middle;\n",
       "    }\n",
       "\n",
       "    .dataframe tbody tr th {\n",
       "        vertical-align: top;\n",
       "    }\n",
       "\n",
       "    .dataframe thead th {\n",
       "        text-align: right;\n",
       "    }\n",
       "</style>\n",
       "<table border=\"1\" class=\"dataframe\">\n",
       "  <thead>\n",
       "    <tr style=\"text-align: right;\">\n",
       "      <th></th>\n",
       "      <th>0</th>\n",
       "    </tr>\n",
       "  </thead>\n",
       "  <tbody>\n",
       "    <tr>\n",
       "      <th>0</th>\n",
       "      <td>0.0010</td>\n",
       "    </tr>\n",
       "    <tr>\n",
       "      <th>1</th>\n",
       "      <td>0.0980</td>\n",
       "    </tr>\n",
       "    <tr>\n",
       "      <th>2</th>\n",
       "      <td>0.8976</td>\n",
       "    </tr>\n",
       "  </tbody>\n",
       "</table>\n",
       "</div>"
      ],
      "text/plain": [
       "        0\n",
       "0  0.0010\n",
       "1  0.0980\n",
       "2  0.8976"
      ]
     },
     "execution_count": 22,
     "metadata": {},
     "output_type": "execute_result"
    }
   ],
   "source": [
    "df"
   ]
  },
  {
   "cell_type": "code",
   "execution_count": 23,
   "id": "48cf0367",
   "metadata": {},
   "outputs": [],
   "source": [
    "df.to_csv(r'test.csv', float_format=str)"
   ]
  },
  {
   "cell_type": "code",
   "execution_count": 24,
   "id": "85b200c0",
   "metadata": {},
   "outputs": [],
   "source": [
    "\n",
    "df_new = pd.read_csv(r'test.csv')"
   ]
  },
  {
   "cell_type": "code",
   "execution_count": 30,
   "id": "e5c4cf47",
   "metadata": {},
   "outputs": [
    {
     "data": {
      "text/plain": [
       "True"
      ]
     },
     "execution_count": 30,
     "metadata": {},
     "output_type": "execute_result"
    }
   ],
   "source": []
  },
  {
   "cell_type": "code",
   "execution_count": null,
   "id": "33222bd9",
   "metadata": {},
   "outputs": [],
   "source": []
  }
 ],
 "metadata": {
  "kernelspec": {
   "display_name": "Python 3 (ipykernel)",
   "language": "python",
   "name": "python3"
  },
  "language_info": {
   "codemirror_mode": {
    "name": "ipython",
    "version": 3
   },
   "file_extension": ".py",
   "mimetype": "text/x-python",
   "name": "python",
   "nbconvert_exporter": "python",
   "pygments_lexer": "ipython3",
   "version": "3.7.15"
  }
 },
 "nbformat": 4,
 "nbformat_minor": 5
}
