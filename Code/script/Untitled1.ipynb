{
 "cells": [
  {
   "cell_type": "code",
   "execution_count": 1,
   "id": "251759d5",
   "metadata": {},
   "outputs": [],
   "source": [
    "import random"
   ]
  },
  {
   "cell_type": "code",
   "execution_count": 19,
   "id": "2ab027c5",
   "metadata": {},
   "outputs": [],
   "source": [
    "x = [1, 2, 3, 4]\n",
    "y = [5, 6, 7, 8]"
   ]
  },
  {
   "cell_type": "code",
   "execution_count": 20,
   "id": "6b9277cb",
   "metadata": {},
   "outputs": [],
   "source": [
    "temp = list(zip(x, y))"
   ]
  },
  {
   "cell_type": "code",
   "execution_count": 21,
   "id": "d95e1bdb",
   "metadata": {},
   "outputs": [],
   "source": [
    "random.shuffle(temp)"
   ]
  },
  {
   "cell_type": "code",
   "execution_count": 22,
   "id": "033f842b",
   "metadata": {},
   "outputs": [],
   "source": [
    "x1, y1 = zip(*temp)"
   ]
  },
  {
   "cell_type": "code",
   "execution_count": 23,
   "id": "a1771d7f",
   "metadata": {},
   "outputs": [],
   "source": [
    "x1, y1 = list(x1), list(y1)"
   ]
  },
  {
   "cell_type": "code",
   "execution_count": 24,
   "id": "29bf1d5f",
   "metadata": {},
   "outputs": [
    {
     "data": {
      "text/plain": [
       "[3, 4, 1, 2]"
      ]
     },
     "execution_count": 24,
     "metadata": {},
     "output_type": "execute_result"
    }
   ],
   "source": [
    "x1"
   ]
  },
  {
   "cell_type": "code",
   "execution_count": 25,
   "id": "95618385",
   "metadata": {},
   "outputs": [
    {
     "data": {
      "text/plain": [
       "[7, 8, 5, 6]"
      ]
     },
     "execution_count": 25,
     "metadata": {},
     "output_type": "execute_result"
    }
   ],
   "source": [
    "y1"
   ]
  },
  {
   "cell_type": "code",
   "execution_count": null,
   "id": "4187d1b3",
   "metadata": {},
   "outputs": [],
   "source": []
  }
 ],
 "metadata": {
  "kernelspec": {
   "display_name": "Python 3 (ipykernel)",
   "language": "python",
   "name": "python3"
  },
  "language_info": {
   "codemirror_mode": {
    "name": "ipython",
    "version": 3
   },
   "file_extension": ".py",
   "mimetype": "text/x-python",
   "name": "python",
   "nbconvert_exporter": "python",
   "pygments_lexer": "ipython3",
   "version": "3.7.15"
  }
 },
 "nbformat": 4,
 "nbformat_minor": 5
}
