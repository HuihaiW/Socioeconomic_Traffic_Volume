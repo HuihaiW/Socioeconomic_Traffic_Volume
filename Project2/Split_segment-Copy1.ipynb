{
 "cells": [
  {
   "cell_type": "code",
   "execution_count": 122,
   "id": "a657c19e",
   "metadata": {},
   "outputs": [],
   "source": [
    "import pandas as pd\n",
    "import numpy as np\n",
    "import math\n",
    "import os"
   ]
  },
  {
   "cell_type": "code",
   "execution_count": 123,
   "id": "a7858526",
   "metadata": {},
   "outputs": [],
   "source": [
    "df_new = pd.read_csv(r'../../Data2/Dataset_Prepared/Road_Segments_Dir/New_Road_Segments_Divided_2013.csv')\n",
    "NF = df_new['NodeIDFrom']\n",
    "NT = df_new['NodeIDTo']\n",
    "ID = df_new['ID']"
   ]
  },
  {
   "cell_type": "code",
   "execution_count": 125,
   "id": "45df47df",
   "metadata": {},
   "outputs": [],
   "source": [
    "adj_f = []\n",
    "adj_t = []\n",
    "for i in range(60000, 120000):\n",
    "    To = NT[i]\n",
    "    df_To = df_new[df_new['NodeIDFrom'] == To]\n",
    "    \n",
    "    to = df_To['ID'].to_list()\n",
    "    f = [ID[i]] * df_To.shape[0]\n",
    "    \n",
    "    adj_f = adj_f + f\n",
    "    adj_t = adj_t + to"
   ]
  },
  {
   "cell_type": "code",
   "execution_count": 126,
   "id": "49e8b49a",
   "metadata": {},
   "outputs": [],
   "source": [
    "adj_df = pd.DataFrame()\n",
    "\n",
    "adj_df['From'] = adj_f\n",
    "adj_df['To'] = adj_t\n",
    "\n",
    "adj_df.to_csv(r'../../Data2/Dataset_Prepared/adjacentMatrix2.csv')"
   ]
  },
  {
   "cell_type": "code",
   "execution_count": null,
   "id": "ddcad5a0",
   "metadata": {},
   "outputs": [],
   "source": []
  }
 ],
 "metadata": {
  "kernelspec": {
   "display_name": "Python 3 (ipykernel)",
   "language": "python",
   "name": "python3"
  },
  "language_info": {
   "codemirror_mode": {
    "name": "ipython",
    "version": 3
   },
   "file_extension": ".py",
   "mimetype": "text/x-python",
   "name": "python",
   "nbconvert_exporter": "python",
   "pygments_lexer": "ipython3",
   "version": "3.7.13"
  }
 },
 "nbformat": 4,
 "nbformat_minor": 5
}
