{
 "cells": [
  {
   "cell_type": "code",
   "execution_count": 1,
   "id": "ff519958",
   "metadata": {},
   "outputs": [],
   "source": [
    "import pandas as pd\n",
    "import os\n",
    "from random import shuffle\n",
    "import numpy as np"
   ]
  },
  {
   "cell_type": "code",
   "execution_count": 2,
   "id": "23d2fea5",
   "metadata": {},
   "outputs": [],
   "source": [
    "def get_time_frame(df, M, D):\n",
    "    df_M = df[df['M'] == M]\n",
    "    df_D = df_M[df_M['D'] == D]\n",
    "#     df_HH = df_D[df_D['HH'] == HH]\n",
    "#     df_MM = df_HH[df_HH['MM'] == MM]\n",
    "    return df_D"
   ]
  },
  {
   "cell_type": "code",
   "execution_count": 3,
   "id": "0df03250",
   "metadata": {},
   "outputs": [],
   "source": [
    "df_segments = pd.read_csv(r'../../Data2/Dataset_Prepared/Road_Segments_Dir/New_Road_Segments_Divided_2019.csv')\n",
    "df_segments = df_segments[['SegmentID_', 'TrafDir','SegDir', 'ID']]\n",
    "df_count_0 = pd.read_csv(r'../../Dataset/Automated_Traffic_Volume_Counts.csv')"
   ]
  },
  {
   "cell_type": "code",
   "execution_count": 4,
   "id": "afdf34af",
   "metadata": {},
   "outputs": [
    {
     "name": "stdout",
     "output_type": "stream",
     "text": [
      "106.66053597731798 156.377030788485\n"
     ]
    }
   ],
   "source": [
    "SegID = df_count_0['SegmentID'].astype('str')\n",
    "Dir = df_count_0['Direction']\n",
    "Seg_ID = SegID+'_' + Dir\n",
    "df_count_0['Seg_Dir'] = Seg_ID\n",
    "\n",
    "count_d = df_count_0['Vol']\n",
    "m = count_d.mean()\n",
    "s = count_d.std()\n",
    "print(m, s)"
   ]
  },
  {
   "cell_type": "code",
   "execution_count": 5,
   "id": "cad61eec",
   "metadata": {},
   "outputs": [
    {
     "name": "stdout",
     "output_type": "stream",
     "text": [
      "2013\n",
      "time len is: 348\n",
      "2014\n",
      "time len is: 347\n",
      "2015\n",
      "time len is: 331\n",
      "2016\n",
      "time len is: 342\n",
      "2017\n",
      "time len is: 338\n",
      "2018\n",
      "time len is: 283\n",
      "2019\n",
      "time len is: 329\n"
     ]
    }
   ],
   "source": [
    "year_list = [2013, 2014, 2015, 2016, 2017, 2018, 2019]\n",
    "\n",
    "for year in year_list:\n",
    "    print(year)\n",
    "\n",
    "    choose_days_per_year = 50\n",
    "\n",
    "    df_count = df_count_0[df_count_0['Yr'] == year]\n",
    "    Yr = df_count['Yr'].to_list()\n",
    "    M = df_count['M'].to_list()\n",
    "    D = df_count['D'].to_list()\n",
    "    time = []\n",
    "\n",
    "    for i in range(len(Yr)):\n",
    "        t = str(Yr[i]) + '_' + str(M[i]) + '_' + str(D[i])\n",
    "        time.append(t)\n",
    "\n",
    "    time_list = list(set(time))\n",
    "    print('time len is: ' + str(len(time_list)))\n",
    "\n",
    "    if choose_days_per_year > len(time_list):\n",
    "        choose_days_per_year = len(time_list)\n",
    "\n",
    "    shuffle(time_list)\n",
    "    time_list = time_list[0:choose_days_per_year]\n",
    "\n",
    "\n",
    "    for time in time_list:\n",
    "        Day_time_series_data = np.full((df_segments.shape[0], 96), -1.0)\n",
    "        Day_list = [-1.0] * df_segments.shape[0]\n",
    "        T = time.split('_')\n",
    "        M = int(T[1])\n",
    "        D = int(T[2])\n",
    "        time_frame = get_time_frame(df_count, M, D)\n",
    "\n",
    "        seg_dir_list = list(set(time_frame['Seg_Dir'].to_list()))\n",
    "\n",
    "        for seg_dir in seg_dir_list:\n",
    "            df_time_seg = time_frame[time_frame['Seg_Dir']==seg_dir]\n",
    "            if (df_time_seg.shape[0] == 96):\n",
    "                seg = int(seg_dir.split('_')[0])\n",
    "                direction = seg_dir.split('_')[1]\n",
    "                count = (df_time_seg['Vol'] - m)/s\n",
    "#                 print(count)\n",
    "                seg_df = df_segments[df_segments['SegmentID_'] == seg]\n",
    "                if seg_df.shape[0] == 0:\n",
    "#                     print('No such segment: ' + str(seg))\n",
    "                    continue\n",
    "                else:\n",
    "                    if seg_df['TrafDir'].values[0] != 'T':\n",
    "                        index = seg_df['ID'].values[0]\n",
    "                        Day_time_series_data[index] = count\n",
    "                    else:\n",
    "                        seg_dir_df = seg_df[seg_df['SegDir']==direction]\n",
    "                        if seg_dir_df.shape[0] == 0:\n",
    "#                             print('Have segment, but no direction: ' + str(seg))\n",
    "                            continue\n",
    "                        index = seg_dir_df['ID'].values[0]\n",
    "                        Day_time_series_data[index] = count\n",
    "        df = pd.DataFrame(Day_time_series_data, columns=[str(c) for c in range(96)])\n",
    "        name = time + '.csv'\n",
    "        path = os.path.join(r'../../Data2/Dataset_Prepared/Y_Day_timeseries/Train', name)\n",
    "        df.to_csv(path, float_format=str)"
   ]
  },
  {
   "cell_type": "code",
   "execution_count": null,
   "id": "aa64c2da",
   "metadata": {},
   "outputs": [],
   "source": []
  }
 ],
 "metadata": {
  "kernelspec": {
   "display_name": "Python 3 (ipykernel)",
   "language": "python",
   "name": "python3"
  },
  "language_info": {
   "codemirror_mode": {
    "name": "ipython",
    "version": 3
   },
   "file_extension": ".py",
   "mimetype": "text/x-python",
   "name": "python",
   "nbconvert_exporter": "python",
   "pygments_lexer": "ipython3",
   "version": "3.7.15"
  }
 },
 "nbformat": 4,
 "nbformat_minor": 5
}
